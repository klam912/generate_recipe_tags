{
 "cells": [
  {
   "cell_type": "code",
   "execution_count": 81,
   "metadata": {},
   "outputs": [
    {
     "name": "stderr",
     "output_type": "stream",
     "text": [
      "/Users/kenlam/anaconda3/envs/tf/lib/python3.11/site-packages/tqdm/auto.py:21: TqdmWarning: IProgress not found. Please update jupyter and ipywidgets. See https://ipywidgets.readthedocs.io/en/stable/user_install.html\n",
      "  from .autonotebook import tqdm as notebook_tqdm\n",
      "Setting `pad_token_id` to `eos_token_id`:50256 for open-end generation.\n"
     ]
    },
    {
     "ename": "KeyboardInterrupt",
     "evalue": "",
     "output_type": "error",
     "traceback": [
      "\u001b[0;31m---------------------------------------------------------------------------\u001b[0m",
      "\u001b[0;31mKeyboardInterrupt\u001b[0m                         Traceback (most recent call last)",
      "Cell \u001b[0;32mIn[81], line 11\u001b[0m\n\u001b[1;32m      8\u001b[0m prompt \u001b[39m=\u001b[39m \u001b[39m\"\u001b[39m\u001b[39mHugging face company is\u001b[39m\u001b[39m\"\u001b[39m\n\u001b[1;32m      9\u001b[0m inputs \u001b[39m=\u001b[39m tokenizer(prompt, return_tensors \u001b[39m=\u001b[39m \u001b[39m\"\u001b[39m\u001b[39mpt\u001b[39m\u001b[39m\"\u001b[39m)\n\u001b[0;32m---> 11\u001b[0m outputs \u001b[39m=\u001b[39m model\u001b[39m.\u001b[39;49mgenerate(\u001b[39m*\u001b[39;49m\u001b[39m*\u001b[39;49minputs, penalty_alpha \u001b[39m=\u001b[39;49m \u001b[39m0.6\u001b[39;49m, top_k\u001b[39m=\u001b[39;49m\u001b[39m4\u001b[39;49m, max_new_tokens\u001b[39m=\u001b[39;49m\u001b[39m100\u001b[39;49m)\n\u001b[1;32m     12\u001b[0m tokenizer\u001b[39m.\u001b[39mbatch_decode(outputs, skip_special_tokens\u001b[39m=\u001b[39m\u001b[39mTrue\u001b[39;00m)\n",
      "File \u001b[0;32m~/anaconda3/envs/tf/lib/python3.11/site-packages/torch/utils/_contextlib.py:115\u001b[0m, in \u001b[0;36mcontext_decorator.<locals>.decorate_context\u001b[0;34m(*args, **kwargs)\u001b[0m\n\u001b[1;32m    112\u001b[0m \u001b[39m@functools\u001b[39m\u001b[39m.\u001b[39mwraps(func)\n\u001b[1;32m    113\u001b[0m \u001b[39mdef\u001b[39;00m \u001b[39mdecorate_context\u001b[39m(\u001b[39m*\u001b[39margs, \u001b[39m*\u001b[39m\u001b[39m*\u001b[39mkwargs):\n\u001b[1;32m    114\u001b[0m     \u001b[39mwith\u001b[39;00m ctx_factory():\n\u001b[0;32m--> 115\u001b[0m         \u001b[39mreturn\u001b[39;00m func(\u001b[39m*\u001b[39;49margs, \u001b[39m*\u001b[39;49m\u001b[39m*\u001b[39;49mkwargs)\n",
      "File \u001b[0;32m~/anaconda3/envs/tf/lib/python3.11/site-packages/transformers/generation/utils.py:1562\u001b[0m, in \u001b[0;36mGenerationMixin.generate\u001b[0;34m(self, inputs, generation_config, logits_processor, stopping_criteria, prefix_allowed_tokens_fn, synced_gpus, assistant_model, streamer, negative_prompt_ids, negative_prompt_attention_mask, **kwargs)\u001b[0m\n\u001b[1;32m   1559\u001b[0m     \u001b[39mif\u001b[39;00m \u001b[39mnot\u001b[39;00m model_kwargs[\u001b[39m\"\u001b[39m\u001b[39muse_cache\u001b[39m\u001b[39m\"\u001b[39m]:\n\u001b[1;32m   1560\u001b[0m         \u001b[39mraise\u001b[39;00m \u001b[39mValueError\u001b[39;00m(\u001b[39m\"\u001b[39m\u001b[39mContrastive search requires `use_cache=True`\u001b[39m\u001b[39m\"\u001b[39m)\n\u001b[0;32m-> 1562\u001b[0m     \u001b[39mreturn\u001b[39;00m \u001b[39mself\u001b[39;49m\u001b[39m.\u001b[39;49mcontrastive_search(\n\u001b[1;32m   1563\u001b[0m         input_ids,\n\u001b[1;32m   1564\u001b[0m         top_k\u001b[39m=\u001b[39;49mgeneration_config\u001b[39m.\u001b[39;49mtop_k,\n\u001b[1;32m   1565\u001b[0m         penalty_alpha\u001b[39m=\u001b[39;49mgeneration_config\u001b[39m.\u001b[39;49mpenalty_alpha,\n\u001b[1;32m   1566\u001b[0m         logits_processor\u001b[39m=\u001b[39;49mprepared_logits_processor,\n\u001b[1;32m   1567\u001b[0m         stopping_criteria\u001b[39m=\u001b[39;49mprepared_stopping_criteria,\n\u001b[1;32m   1568\u001b[0m         pad_token_id\u001b[39m=\u001b[39;49mgeneration_config\u001b[39m.\u001b[39;49mpad_token_id,\n\u001b[1;32m   1569\u001b[0m         eos_token_id\u001b[39m=\u001b[39;49mgeneration_config\u001b[39m.\u001b[39;49meos_token_id,\n\u001b[1;32m   1570\u001b[0m         output_scores\u001b[39m=\u001b[39;49mgeneration_config\u001b[39m.\u001b[39;49moutput_scores,\n\u001b[1;32m   1571\u001b[0m         output_logits\u001b[39m=\u001b[39;49mgeneration_config\u001b[39m.\u001b[39;49moutput_logits,\n\u001b[1;32m   1572\u001b[0m         return_dict_in_generate\u001b[39m=\u001b[39;49mgeneration_config\u001b[39m.\u001b[39;49mreturn_dict_in_generate,\n\u001b[1;32m   1573\u001b[0m         synced_gpus\u001b[39m=\u001b[39;49msynced_gpus,\n\u001b[1;32m   1574\u001b[0m         streamer\u001b[39m=\u001b[39;49mstreamer,\n\u001b[1;32m   1575\u001b[0m         sequential\u001b[39m=\u001b[39;49mgeneration_config\u001b[39m.\u001b[39;49mlow_memory,\n\u001b[1;32m   1576\u001b[0m         \u001b[39m*\u001b[39;49m\u001b[39m*\u001b[39;49mmodel_kwargs,\n\u001b[1;32m   1577\u001b[0m     )\n\u001b[1;32m   1579\u001b[0m \u001b[39melif\u001b[39;00m generation_mode \u001b[39m==\u001b[39m GenerationMode\u001b[39m.\u001b[39mSAMPLE:\n\u001b[1;32m   1580\u001b[0m     \u001b[39m# 11. prepare logits warper\u001b[39;00m\n\u001b[1;32m   1581\u001b[0m     logits_warper \u001b[39m=\u001b[39m \u001b[39mself\u001b[39m\u001b[39m.\u001b[39m_get_logits_warper(generation_config)\n",
      "File \u001b[0;32m~/anaconda3/envs/tf/lib/python3.11/site-packages/torch/utils/_contextlib.py:115\u001b[0m, in \u001b[0;36mcontext_decorator.<locals>.decorate_context\u001b[0;34m(*args, **kwargs)\u001b[0m\n\u001b[1;32m    112\u001b[0m \u001b[39m@functools\u001b[39m\u001b[39m.\u001b[39mwraps(func)\n\u001b[1;32m    113\u001b[0m \u001b[39mdef\u001b[39;00m \u001b[39mdecorate_context\u001b[39m(\u001b[39m*\u001b[39margs, \u001b[39m*\u001b[39m\u001b[39m*\u001b[39mkwargs):\n\u001b[1;32m    114\u001b[0m     \u001b[39mwith\u001b[39;00m ctx_factory():\n\u001b[0;32m--> 115\u001b[0m         \u001b[39mreturn\u001b[39;00m func(\u001b[39m*\u001b[39;49margs, \u001b[39m*\u001b[39;49m\u001b[39m*\u001b[39;49mkwargs)\n",
      "File \u001b[0;32m~/anaconda3/envs/tf/lib/python3.11/site-packages/transformers/generation/utils.py:2120\u001b[0m, in \u001b[0;36mGenerationMixin.contrastive_search\u001b[0;34m(self, input_ids, top_k, penalty_alpha, logits_processor, logits_warper, stopping_criteria, pad_token_id, eos_token_id, output_attentions, output_hidden_states, output_scores, output_logits, return_dict_in_generate, synced_gpus, streamer, sequential, **model_kwargs)\u001b[0m\n\u001b[1;32m   2118\u001b[0m \u001b[39m# item is either the key or the value matrix\u001b[39;00m\n\u001b[1;32m   2119\u001b[0m \u001b[39mfor\u001b[39;00m item \u001b[39min\u001b[39;00m layer:\n\u001b[0;32m-> 2120\u001b[0m     item \u001b[39m=\u001b[39m torch\u001b[39m.\u001b[39;49mstack(torch\u001b[39m.\u001b[39;49msplit(item, top_k, dim\u001b[39m=\u001b[39;49m\u001b[39m0\u001b[39;49m))  \u001b[39m# [B, K, num_head, seq_len, esz]\u001b[39;00m\n\u001b[1;32m   2121\u001b[0m     item \u001b[39m=\u001b[39m item[\u001b[39mrange\u001b[39m(batch_size), selected_idx, \u001b[39m.\u001b[39m\u001b[39m.\u001b[39m\u001b[39m.\u001b[39m]  \u001b[39m# [B, num_head, seq_len, esz]\u001b[39;00m\n\u001b[1;32m   2122\u001b[0m     items \u001b[39m+\u001b[39m\u001b[39m=\u001b[39m (item,)\n",
      "\u001b[0;31mKeyboardInterrupt\u001b[0m: "
     ]
    }
   ],
   "source": [
    "import torch\n",
    "from transformers import AutoTokenizer, AutoModelForCausalLM\n",
    "\n",
    "checkpoint = \"openai-community/gpt2-large\"\n",
    "tokenizer = AutoTokenizer.from_pretrained(checkpoint)\n",
    "model = AutoModelForCausalLM.from_pretrained(checkpoint)\n",
    "\n",
    "prompt = \"Hugging face company is\"\n",
    "inputs = tokenizer(prompt, return_tensors = \"pt\")\n",
    "\n",
    "outputs = model.generate(**inputs, penalty_alpha = 0.6, top_k=4, max_new_tokens=100)\n",
    "tokenizer.batch_decode(outputs, skip_special_tokens=True)"
   ]
  },
  {
   "cell_type": "code",
   "execution_count": null,
   "metadata": {},
   "outputs": [],
   "source": [
    "from transformers import GPT2LMHeadModel, GPT2Tokenizer\n",
    "\n",
    "tokenizer = GPT2Tokenizer.from_pretrained(\"openai-community/gpt2-large\")\n",
    "model = GPT2LMHeadModel.from_pretrained(\"openai-community/gpt2-large\")"
   ]
  },
  {
   "cell_type": "code",
   "execution_count": null,
   "metadata": {},
   "outputs": [],
   "source": [
    "input_text = \"Generate a vegan Italian recipe with the following ingredients: tomatoes, basil, garlic.\"\n",
    "input_ids = tokenizer.encode(input_text, return_tensors=\"pt\")\n",
    "\n",
    "outputs = model.generate(input_ids, max_length=500, num_return_sequences=1)\n",
    "print(tokenizer.decode(outputs[0], skip_special_tokens=True))"
   ]
  },
  {
   "attachments": {},
   "cell_type": "markdown",
   "metadata": {},
   "source": [
    "# The Best Vietnamese Recipe to fit your vibe!"
   ]
  },
  {
   "attachments": {},
   "cell_type": "markdown",
   "metadata": {},
   "source": [
    "## Data collection"
   ]
  },
  {
   "attachments": {},
   "cell_type": "markdown",
   "metadata": {},
   "source": [
    "Let's scrap the data now from a website!"
   ]
  },
  {
   "cell_type": "code",
   "execution_count": null,
   "metadata": {},
   "outputs": [],
   "source": [
    "from bs4 import BeautifulSoup\n",
    "import requests\n",
    "\n",
    "url = 'https://www.recipetineats.com/category/vietnamese-recipes/'\n",
    "page = requests.get(url)\n",
    "soup = BeautifulSoup(page.content, 'html.parser')"
   ]
  },
  {
   "attachments": {},
   "cell_type": "markdown",
   "metadata": {},
   "source": [
    "Now that we have parsed through the website HTML, let's get all of the recipe links using find_all"
   ]
  },
  {
   "cell_type": "code",
   "execution_count": null,
   "metadata": {},
   "outputs": [
    {
     "name": "stdout",
     "output_type": "stream",
     "text": [
      "['https://www.recipetineats.com/vietnamese-lettuce-wraps-with-peanut-sauce/', 'https://www.recipetineats.com/vietnamese-caramel-ginger-chicken/', 'https://www.recipetineats.com/vietnamese-pork-noodle-bowls/', 'https://www.recipetineats.com/vietnamese-lemongrass-pork-steaks/', 'https://www.recipetineats.com/chicken-banh-mi-vietnamese-sandwich/', 'https://www.recipetineats.com/red-vietnamese-fried-rice/', 'https://www.recipetineats.com/vietnamese-shaking-beef/', 'https://www.recipetineats.com/vietnamese-baked-chicken/', 'https://www.recipetineats.com/vietnamese-chicken-salad/', 'https://www.recipetineats.com/vietnamese-chicken-pho-soup-pho-ga/', 'https://www.recipetineats.com/vietnamese-rice-paper-rolls-spring-rolls/', 'https://www.recipetineats.com/vietnamese-pho-recipe/', 'https://www.recipetineats.com/vietnamese-top-10-best-street-food-ho-chi-minh-city/', 'https://www.recipetineats.com/vietnamese-chicken-noodle-bowl/', 'https://www.recipetineats.com/vietnamese-caramelised-pork-bowls/', 'https://www.recipetineats.com/banh-mi-vietnamese-sandwich/', 'https://www.recipetineats.com/vietnamese-pork-meatballs-banh-mi/', 'https://www.recipetineats.com/caramelised-vietnamese-shredded-beef/', 'https://www.recipetineats.com/bun-cha-vietnamese-meatballs/', 'https://www.recipetineats.com/vietnamese-coconut-caramel-chicken/']\n"
     ]
    }
   ],
   "source": [
    "recipe_links = soup.find_all('a', class_= 'entry-image-link')\n",
    "# Get the href attribute to store the link\n",
    "links = []\n",
    "for recipe in recipe_links:\n",
    "    links.append(recipe.get('href'))\n",
    "print(links)"
   ]
  },
  {
   "attachments": {},
   "cell_type": "markdown",
   "metadata": {},
   "source": [
    "After getting all of the links for all of the recipe, let's iterate through each recipe title to see if it works"
   ]
  },
  {
   "cell_type": "code",
   "execution_count": null,
   "metadata": {},
   "outputs": [
    {
     "name": "stdout",
     "output_type": "stream",
     "text": [
      "Recipe Title: Vietnamese Lettuce Wraps with Peanut Sauce\n",
      "Recipe Title: Vietnamese Caramel Ginger Chicken\n",
      "Recipe Title: Vietnamese lemongrass pork noodle bowls (bun thit nuong)\n",
      "Recipe Title: Vietnamese lemongrass pork steaks\n",
      "Recipe Title: Chicken Banh Mi (Vietnamese sandwich)\n",
      "Recipe Title: Red Vietnamese Fried Rice\n",
      "Recipe Title: Vietnamese Shaking Beef\n",
      "Recipe Title: Vietnamese Baked Chicken\n",
      "Recipe Title: Vietnamese Chicken Salad\n",
      "Recipe Title: Vietnamese Chicken Pho soup (Pho Ga)\n",
      "Recipe Title: Vietnamese Rice Paper Rolls\n",
      "Recipe Title: Vietnamese Pho recipe\n",
      "Recipe Title: {Pilot Travel Video!!} Top 10 BEST Street Food in Vietnam – Ho Chi Minh City\n",
      "Recipe Title: Vietnamese Noodles with Lemongrass Chicken\n",
      "Recipe Title: Vietnamese Caramelised Pork Bowls\n",
      "Recipe Title: Banh Mi ! (Vietnamese sandwich)\n",
      "Recipe Title: Pork Meatballs for Banh Mi\n",
      "Recipe Title: Caramelised Vietnamese Shredded Beef\n",
      "Recipe Title: Bun Cha (Vietnamese Meatballs!)\n",
      "Recipe Title: Vietnamese Coconut Caramel Chicken\n"
     ]
    }
   ],
   "source": [
    "from urllib.parse import urljoin\n",
    "\n",
    "for link in links:\n",
    "    recipe_page = requests.get(link)\n",
    "\n",
    "    recipe_soup = BeautifulSoup(recipe_page.content, 'html.parser')\n",
    "\n",
    "    # Extract the recipe's title\n",
    "    recipe_title = recipe_soup.find('h1').get_text()\n",
    "    print(f'Recipe Title: {recipe_title}')"
   ]
  },
  {
   "attachments": {},
   "cell_type": "markdown",
   "metadata": {},
   "source": [
    "Now that we're able to iterate through each of the link, we can start create a pipeline to extracts the necessary information (ingredients, instructions, and title)"
   ]
  },
  {
   "cell_type": "code",
   "execution_count": null,
   "metadata": {},
   "outputs": [],
   "source": [
    "def extract_info(div_class, ul_class, extra_char_to_strip, soup):\n",
    "    divs = soup.find_all('div', class_= div_class)\n",
    "    list_of_info = []\n",
    "    for div in divs:\n",
    "        ul = div.find_next('ul', class_=ul_class)\n",
    "        for li in ul.find_all('li'):\n",
    "            list_of_info.append(li.get_text().strip(extra_char_to_strip))\n",
    "    return list_of_info"
   ]
  },
  {
   "cell_type": "code",
   "execution_count": null,
   "metadata": {},
   "outputs": [],
   "source": [
    "from urllib.parse import urljoin\n",
    "import pandas as pd\n",
    "# Create a dataframe storing all of the vietnamese recipes\n",
    "recipes_df = pd.DataFrame(columns=['Title', 'Ingredients', 'Instructions', 'Tags'])\n",
    "for link in links:\n",
    "    recipe_page = requests.get(link)\n",
    "\n",
    "    recipe_soup = BeautifulSoup(recipe_page.content, 'html.parser')\n",
    "\n",
    "    # Extract the recipe's title and add to df\n",
    "    recipe_title = recipe_soup.find('h1').get_text()\n",
    "\n",
    "    new_row = pd.DataFrame({'Title': [recipe_title], 'Ingredients': [extract_info('wprm-recipe-ingredient-group', 'wprm-recipe-ingredients','▢ ', recipe_soup)], 'Instructions': [extract_info('wprm-recipe-instruction-group', 'wprm-recipe-instructions','▢ ', recipe_soup)]})\n",
    "    recipes_df = pd.concat([recipes_df, new_row], ignore_index=True)"
   ]
  },
  {
   "cell_type": "code",
   "execution_count": null,
   "metadata": {},
   "outputs": [
    {
     "data": {
      "text/html": [
       "<div>\n",
       "<style scoped>\n",
       "    .dataframe tbody tr th:only-of-type {\n",
       "        vertical-align: middle;\n",
       "    }\n",
       "\n",
       "    .dataframe tbody tr th {\n",
       "        vertical-align: top;\n",
       "    }\n",
       "\n",
       "    .dataframe thead th {\n",
       "        text-align: right;\n",
       "    }\n",
       "</style>\n",
       "<table border=\"1\" class=\"dataframe\">\n",
       "  <thead>\n",
       "    <tr style=\"text-align: right;\">\n",
       "      <th></th>\n",
       "      <th>Title</th>\n",
       "      <th>Ingredients</th>\n",
       "      <th>Instructions</th>\n",
       "      <th>Tags</th>\n",
       "    </tr>\n",
       "  </thead>\n",
       "  <tbody>\n",
       "    <tr>\n",
       "      <th>0</th>\n",
       "      <td>Vietnamese Lettuce Wraps with Peanut Sauce</td>\n",
       "      <td>[300g / 10 oz peeled whole cooked prawns/shrim...</td>\n",
       "      <td>[Pickle first – Put the boiling water, salt an...</td>\n",
       "      <td>NaN</td>\n",
       "    </tr>\n",
       "    <tr>\n",
       "      <th>1</th>\n",
       "      <td>Vietnamese Caramel Ginger Chicken</td>\n",
       "      <td>[1 kg / 2 lb skinless chicken thigh fillets , ...</td>\n",
       "      <td>[Toss chicken with fish sauce and chilli, then...</td>\n",
       "      <td>NaN</td>\n",
       "    </tr>\n",
       "    <tr>\n",
       "      <th>2</th>\n",
       "      <td>Vietnamese lemongrass pork noodle bowls (bun t...</td>\n",
       "      <td>[1 batch lemongrass marinated pork (it’s marin...</td>\n",
       "      <td>[Pickle – In a large bowl, dissolve the salt a...</td>\n",
       "      <td>NaN</td>\n",
       "    </tr>\n",
       "    <tr>\n",
       "      <th>3</th>\n",
       "      <td>Vietnamese lemongrass pork steaks</td>\n",
       "      <td>[500g/1 lb pork shoulder , skinless and bonele...</td>\n",
       "      <td>[Cut pork – Cut into 8 equal, thinnish slices ...</td>\n",
       "      <td>NaN</td>\n",
       "    </tr>\n",
       "    <tr>\n",
       "      <th>4</th>\n",
       "      <td>Chicken Banh Mi (Vietnamese sandwich)</td>\n",
       "      <td>[2 medium carrots , peeled cut into 2-3mm / 1/...</td>\n",
       "      <td>[Pickle – In a large bowl, dissolve the salt a...</td>\n",
       "      <td>NaN</td>\n",
       "    </tr>\n",
       "  </tbody>\n",
       "</table>\n",
       "</div>"
      ],
      "text/plain": [
       "                                               Title  \\\n",
       "0         Vietnamese Lettuce Wraps with Peanut Sauce   \n",
       "1                  Vietnamese Caramel Ginger Chicken   \n",
       "2  Vietnamese lemongrass pork noodle bowls (bun t...   \n",
       "3                  Vietnamese lemongrass pork steaks   \n",
       "4              Chicken Banh Mi (Vietnamese sandwich)   \n",
       "\n",
       "                                         Ingredients  \\\n",
       "0  [300g / 10 oz peeled whole cooked prawns/shrim...   \n",
       "1  [1 kg / 2 lb skinless chicken thigh fillets , ...   \n",
       "2  [1 batch lemongrass marinated pork (it’s marin...   \n",
       "3  [500g/1 lb pork shoulder , skinless and bonele...   \n",
       "4  [2 medium carrots , peeled cut into 2-3mm / 1/...   \n",
       "\n",
       "                                        Instructions Tags  \n",
       "0  [Pickle first – Put the boiling water, salt an...  NaN  \n",
       "1  [Toss chicken with fish sauce and chilli, then...  NaN  \n",
       "2  [Pickle – In a large bowl, dissolve the salt a...  NaN  \n",
       "3  [Cut pork – Cut into 8 equal, thinnish slices ...  NaN  \n",
       "4  [Pickle – In a large bowl, dissolve the salt a...  NaN  "
      ]
     },
     "execution_count": 6,
     "metadata": {},
     "output_type": "execute_result"
    }
   ],
   "source": [
    "recipes_df.head()"
   ]
  },
  {
   "attachments": {},
   "cell_type": "markdown",
   "metadata": {},
   "source": [
    "Our df is almost done! Now, we just need to append tags for each of the food's description. To do so, we'll use NLP's library called spacy and download its pre-trained model. We'll use this model to find tags and filter out unecessary words."
   ]
  },
  {
   "cell_type": "code",
   "execution_count": null,
   "metadata": {},
   "outputs": [
    {
     "name": "stdout",
     "output_type": "stream",
     "text": [
      "['funny', 'pho', 'dish', 'superstar', 'Vietnamese', 'food', 'bun', 'nuong', 'tastier', 'contrast', 'fresh', 'vegetables', 'herbs', 'delicious', 'meats', 'light', 'healthy', 'dull', 'big', 'bowl', 'delicious', 'chicken', 'version', 'years', 'ago', 'bun', 'ga', 'nuong', 'soon', 'pork', 'version', 'immediately', 'Wednesday', 'today', 'noodle', 'bowls', 'recipe', 'lemongrass', 'pork', 'like', 'streets', 'Vietnam']\n"
     ]
    }
   ],
   "source": [
    "import spacy\n",
    "\n",
    "# Load the English NLP model\n",
    "nlp = spacy.load(\"en_core_web_sm\")\n",
    "\n",
    "# The food description\n",
    "text = (\"I find it funny that pho is the dish that’s become the superstar of Vietnamese food when bun thit nuong is tastier to me! \"\n",
    "        \"I adore the contrast of fresh vegetables and herbs with delicious grilled meats, that it’s light and healthy yet anything but dull. \"\n",
    "        \"It’s a big bowl of delicious, and I shared the chicken version many years ago (bun ga nuong). \"\n",
    "        \"And as soon as I cracked the pork version, I shared in immediately (just last Wednesday!). \"\n",
    "        \"And I’m back today with the noodle bowls recipe that is made using the lemongrass pork – just like you get on the streets of Vietnam!\")\n",
    "\n",
    "\n",
    "# Process the text\n",
    "doc = nlp(text)\n",
    "\n",
    "# Extract tags with filtering\n",
    "filtered_tags = [token.text for token in doc \n",
    "                 if token.pos_ not in [\"PRON\", \"VERB\",\"AUX\", \"ADP\",\"SYM\",\"PREP\"]\n",
    "                 and not token.is_stop\n",
    "                 and not token.is_punct]\n",
    "\n",
    "# Print extracted tags\n",
    "print(filtered_tags)"
   ]
  },
  {
   "attachments": {},
   "cell_type": "markdown",
   "metadata": {},
   "source": [
    "Based on this filtering, we can see that the tags found from this description are good. Let's add a column into the df called food description and apply this pipeline to append to the tags column."
   ]
  },
  {
   "cell_type": "code",
   "execution_count": null,
   "metadata": {},
   "outputs": [],
   "source": [
    "# Add an empty column calle Description\n",
    "recipes_df[\"Description\"] = None"
   ]
  },
  {
   "cell_type": "code",
   "execution_count": null,
   "metadata": {},
   "outputs": [
    {
     "name": "stdout",
     "output_type": "stream",
     "text": [
      "Vietnamese Lettuce Wraps with Peanut Sauce\n",
      "Vietnamese Caramel Ginger Chicken\n",
      "Vietnamese lemongrass pork noodle bowls (bun thit nuong)\n",
      "Vietnamese lemongrass pork steaks\n",
      "Chicken Banh Mi (Vietnamese sandwich)\n",
      "Red Vietnamese Fried Rice\n",
      "Vietnamese Shaking Beef\n",
      "Vietnamese Baked Chicken\n",
      "Vietnamese Chicken Salad\n",
      "Vietnamese Chicken Pho soup (Pho Ga)\n",
      "Vietnamese Rice Paper Rolls\n",
      "Vietnamese Pho recipe\n",
      "{Pilot Travel Video!!} Top 10 BEST Street Food in Vietnam – Ho Chi Minh City\n",
      "Vietnamese Noodles with Lemongrass Chicken\n",
      "Vietnamese Caramelised Pork Bowls\n",
      "Banh Mi ! (Vietnamese sandwich)\n",
      "Pork Meatballs for Banh Mi\n",
      "Caramelised Vietnamese Shredded Beef\n",
      "Bun Cha (Vietnamese Meatballs!)\n",
      "Vietnamese Coconut Caramel Chicken\n"
     ]
    }
   ],
   "source": [
    "from bs4 import BeautifulSoup\n",
    "import requests \n",
    "recipes_df = pd.DataFrame(columns=['Title', 'Ingredients', 'Instructions', 'Tags', 'Description'])\n",
    "for link in links:\n",
    "    recipe_page = requests.get(link)\n",
    "\n",
    "    recipe_soup = BeautifulSoup(recipe_page.content, 'html.parser')\n",
    "\n",
    "    recipe_title = recipe_soup.find('h1').get_text()\n",
    "    print(recipe_title)\n",
    "    h2_heading = recipe_soup.find('h2', class_ = ['has-text-align-center wp-block-heading', 'wp-block-heading has-text-align-center', 'text-align: center;'])\n",
    "    paragraphs_block = []\n",
    "    if h2_heading:\n",
    "        for sibling in h2_heading.find_next_siblings():\n",
    "            if sibling.name == \"h2\" or sibling.name == \"h3\":\n",
    "                break\n",
    "            if sibling.name == \"p\":\n",
    "                paragraphs_block.append(sibling.get_text().strip())\n",
    "    new_row = pd.DataFrame({'Title': [recipe_title], 'Ingredients': [' '.join(extract_info('wprm-recipe-ingredient-group', 'wprm-recipe-ingredients','▢ ', recipe_soup))], 'Instructions': [' '.join(extract_info('wprm-recipe-instruction-group', 'wprm-recipe-instructions','▢ ', recipe_soup))], 'Description': [' '.join(paragraphs_block)]})\n",
    "    recipes_df = pd.concat([recipes_df, new_row], ignore_index=True)"
   ]
  },
  {
   "cell_type": "code",
   "execution_count": null,
   "metadata": {},
   "outputs": [],
   "source": [
    "# Remove the row containing the Top 10 Street food in Vietnam.\n",
    "recipes_df1 = recipes_df.copy()\n",
    "recipes_df1 = recipes_df1.drop([6, 7, 12])\n"
   ]
  },
  {
   "cell_type": "code",
   "execution_count": 83,
   "metadata": {},
   "outputs": [
    {
     "data": {
      "text/html": [
       "<div>\n",
       "<style scoped>\n",
       "    .dataframe tbody tr th:only-of-type {\n",
       "        vertical-align: middle;\n",
       "    }\n",
       "\n",
       "    .dataframe tbody tr th {\n",
       "        vertical-align: top;\n",
       "    }\n",
       "\n",
       "    .dataframe thead th {\n",
       "        text-align: right;\n",
       "    }\n",
       "</style>\n",
       "<table border=\"1\" class=\"dataframe\">\n",
       "  <thead>\n",
       "    <tr style=\"text-align: right;\">\n",
       "      <th></th>\n",
       "      <th>Title</th>\n",
       "      <th>Ingredients</th>\n",
       "      <th>Instructions</th>\n",
       "      <th>Tags</th>\n",
       "      <th>Description</th>\n",
       "    </tr>\n",
       "  </thead>\n",
       "  <tbody>\n",
       "    <tr>\n",
       "      <th>0</th>\n",
       "      <td>Vietnamese Lettuce Wraps with Peanut Sauce</td>\n",
       "      <td>300g / 10 oz peeled whole cooked prawns/shrimp...</td>\n",
       "      <td>Pickle first – Put the boiling water, salt and...</td>\n",
       "      <td>NaN</td>\n",
       "      <td>These lettuce wraps are not strictly Vietnames...</td>\n",
       "    </tr>\n",
       "    <tr>\n",
       "      <th>1</th>\n",
       "      <td>Vietnamese Caramel Ginger Chicken</td>\n",
       "      <td>1 kg / 2 lb skinless chicken thigh fillets , c...</td>\n",
       "      <td>Toss chicken with fish sauce and chilli, then ...</td>\n",
       "      <td>NaN</td>\n",
       "      <td>When you see today’s recipe, you’re going to d...</td>\n",
       "    </tr>\n",
       "    <tr>\n",
       "      <th>2</th>\n",
       "      <td>Vietnamese lemongrass pork noodle bowls (bun t...</td>\n",
       "      <td>1 batch lemongrass marinated pork (it’s marina...</td>\n",
       "      <td>Pickle – In a large bowl, dissolve the salt an...</td>\n",
       "      <td>NaN</td>\n",
       "      <td>I find it funny that pho is the dish that’s be...</td>\n",
       "    </tr>\n",
       "    <tr>\n",
       "      <th>3</th>\n",
       "      <td>Vietnamese lemongrass pork steaks</td>\n",
       "      <td>500g/1 lb pork shoulder , skinless and boneles...</td>\n",
       "      <td>Cut pork – Cut into 8 equal, thinnish slices o...</td>\n",
       "      <td>NaN</td>\n",
       "      <td>I’ve been wanting to recreate the chargrilled ...</td>\n",
       "    </tr>\n",
       "    <tr>\n",
       "      <th>4</th>\n",
       "      <td>Chicken Banh Mi (Vietnamese sandwich)</td>\n",
       "      <td>2 medium carrots , peeled cut into 2-3mm / 1/1...</td>\n",
       "      <td>Pickle – In a large bowl, dissolve the salt an...</td>\n",
       "      <td>NaN</td>\n",
       "      <td>Banh Mi is a meat filled French baguette sandw...</td>\n",
       "    </tr>\n",
       "    <tr>\n",
       "      <th>5</th>\n",
       "      <td>Red Vietnamese Fried Rice</td>\n",
       "      <td>30g / 2 tbsp unsalted butter 3 garlic cloves ,...</td>\n",
       "      <td>Melt most of the butter in a large non-stick s...</td>\n",
       "      <td>NaN</td>\n",
       "      <td>Fried rice always makes for a great quick meal...</td>\n",
       "    </tr>\n",
       "    <tr>\n",
       "      <th>8</th>\n",
       "      <td>Vietnamese Chicken Salad</td>\n",
       "      <td>350g/12oz cooked chicken , cut into thin baton...</td>\n",
       "      <td>Dressing: Shake Dressing ingredients in a jar....</td>\n",
       "      <td>NaN</td>\n",
       "      <td>While this exact salad is not strictly authent...</td>\n",
       "    </tr>\n",
       "    <tr>\n",
       "      <th>9</th>\n",
       "      <td>Vietnamese Chicken Pho soup (Pho Ga)</td>\n",
       "      <td>1 tbsp oil , vegetable or canola (or other pla...</td>\n",
       "      <td>Char onion &amp; ginger - Heat oil in a 6 litre / ...</td>\n",
       "      <td>NaN</td>\n",
       "      <td></td>\n",
       "    </tr>\n",
       "    <tr>\n",
       "      <th>10</th>\n",
       "      <td>Vietnamese Rice Paper Rolls</td>\n",
       "      <td>7 – 14 sheets of 22cm/8.5″ round rice paper (N...</td>\n",
       "      <td>Peanut Sauce: Combine the Peanut Dipping Sauce...</td>\n",
       "      <td>NaN</td>\n",
       "      <td>If I took a platter of these to a gathering wi...</td>\n",
       "    </tr>\n",
       "    <tr>\n",
       "      <th>11</th>\n",
       "      <td>Vietnamese Pho recipe</td>\n",
       "      <td>2 large onions , halved 150g / 5oz  ginger , s...</td>\n",
       "      <td>Heat a heavy based skillet over high heat (no ...</td>\n",
       "      <td>NaN</td>\n",
       "      <td></td>\n",
       "    </tr>\n",
       "    <tr>\n",
       "      <th>13</th>\n",
       "      <td>Vietnamese Noodles with Lemongrass Chicken</td>\n",
       "      <td>600 - 800g / 1.2 - 1.6lb  chicken thigh fillet...</td>\n",
       "      <td>Combine Chicken and Marinade ingredients and s...</td>\n",
       "      <td>NaN</td>\n",
       "      <td></td>\n",
       "    </tr>\n",
       "    <tr>\n",
       "      <th>14</th>\n",
       "      <td>Vietnamese Caramelised Pork Bowls</td>\n",
       "      <td>1 1/2 tbsp cooking oil (I use peanut oil) 1/2 ...</td>\n",
       "      <td>Heat the oil in a large skillet over high heat...</td>\n",
       "      <td>NaN</td>\n",
       "      <td>Ground pork – which we call “mince” here in Au...</td>\n",
       "    </tr>\n",
       "    <tr>\n",
       "      <th>15</th>\n",
       "      <td>Banh Mi ! (Vietnamese sandwich)</td>\n",
       "      <td>4 crusty long bread rolls (Note 1) 6 tbsp pork...</td>\n",
       "      <td>Split rolls down the centre of the top (see vi...</td>\n",
       "      <td>NaN</td>\n",
       "      <td></td>\n",
       "    </tr>\n",
       "    <tr>\n",
       "      <th>16</th>\n",
       "      <td>Pork Meatballs for Banh Mi</td>\n",
       "      <td>2/3 cup jicama , apple or daikon, grated with ...</td>\n",
       "      <td>Mix meatball mixture until just combined. Roll...</td>\n",
       "      <td>NaN</td>\n",
       "      <td>This is a recipe for the Banh Mi pork meatball...</td>\n",
       "    </tr>\n",
       "    <tr>\n",
       "      <th>17</th>\n",
       "      <td>Caramelised Vietnamese Shredded Beef</td>\n",
       "      <td>500g / 1lb (3 cups) leftover cooked brisket or...</td>\n",
       "      <td>Mix Marinade in a bowl. Add shredded beef and ...</td>\n",
       "      <td>NaN</td>\n",
       "      <td></td>\n",
       "    </tr>\n",
       "    <tr>\n",
       "      <th>18</th>\n",
       "      <td>Bun Cha (Vietnamese Meatballs!)</td>\n",
       "      <td>250 – 300 g/8 – 10 oz  pork mince (ground pork...</td>\n",
       "      <td>Sauce: Mix ingredients. Set aside 10 minutes+....</td>\n",
       "      <td>NaN</td>\n",
       "      <td>Any self respecting foodie visiting a new coun...</td>\n",
       "    </tr>\n",
       "    <tr>\n",
       "      <th>19</th>\n",
       "      <td>Vietnamese Coconut Caramel Chicken</td>\n",
       "      <td>4 large / 5 small  chicken thighs , bone in sk...</td>\n",
       "      <td>Place sugar and water in a skillet over medium...</td>\n",
       "      <td>NaN</td>\n",
       "      <td></td>\n",
       "    </tr>\n",
       "  </tbody>\n",
       "</table>\n",
       "</div>"
      ],
      "text/plain": [
       "                                                Title  \\\n",
       "0          Vietnamese Lettuce Wraps with Peanut Sauce   \n",
       "1                   Vietnamese Caramel Ginger Chicken   \n",
       "2   Vietnamese lemongrass pork noodle bowls (bun t...   \n",
       "3                   Vietnamese lemongrass pork steaks   \n",
       "4               Chicken Banh Mi (Vietnamese sandwich)   \n",
       "5                           Red Vietnamese Fried Rice   \n",
       "8                            Vietnamese Chicken Salad   \n",
       "9                Vietnamese Chicken Pho soup (Pho Ga)   \n",
       "10                        Vietnamese Rice Paper Rolls   \n",
       "11                              Vietnamese Pho recipe   \n",
       "13         Vietnamese Noodles with Lemongrass Chicken   \n",
       "14                  Vietnamese Caramelised Pork Bowls   \n",
       "15                    Banh Mi ! (Vietnamese sandwich)   \n",
       "16                         Pork Meatballs for Banh Mi   \n",
       "17               Caramelised Vietnamese Shredded Beef   \n",
       "18                    Bun Cha (Vietnamese Meatballs!)   \n",
       "19                 Vietnamese Coconut Caramel Chicken   \n",
       "\n",
       "                                          Ingredients  \\\n",
       "0   300g / 10 oz peeled whole cooked prawns/shrimp...   \n",
       "1   1 kg / 2 lb skinless chicken thigh fillets , c...   \n",
       "2   1 batch lemongrass marinated pork (it’s marina...   \n",
       "3   500g/1 lb pork shoulder , skinless and boneles...   \n",
       "4   2 medium carrots , peeled cut into 2-3mm / 1/1...   \n",
       "5   30g / 2 tbsp unsalted butter 3 garlic cloves ,...   \n",
       "8   350g/12oz cooked chicken , cut into thin baton...   \n",
       "9   1 tbsp oil , vegetable or canola (or other pla...   \n",
       "10  7 – 14 sheets of 22cm/8.5″ round rice paper (N...   \n",
       "11  2 large onions , halved 150g / 5oz  ginger , s...   \n",
       "13  600 - 800g / 1.2 - 1.6lb  chicken thigh fillet...   \n",
       "14  1 1/2 tbsp cooking oil (I use peanut oil) 1/2 ...   \n",
       "15  4 crusty long bread rolls (Note 1) 6 tbsp pork...   \n",
       "16  2/3 cup jicama , apple or daikon, grated with ...   \n",
       "17  500g / 1lb (3 cups) leftover cooked brisket or...   \n",
       "18  250 – 300 g/8 – 10 oz  pork mince (ground pork...   \n",
       "19  4 large / 5 small  chicken thighs , bone in sk...   \n",
       "\n",
       "                                         Instructions Tags  \\\n",
       "0   Pickle first – Put the boiling water, salt and...  NaN   \n",
       "1   Toss chicken with fish sauce and chilli, then ...  NaN   \n",
       "2   Pickle – In a large bowl, dissolve the salt an...  NaN   \n",
       "3   Cut pork – Cut into 8 equal, thinnish slices o...  NaN   \n",
       "4   Pickle – In a large bowl, dissolve the salt an...  NaN   \n",
       "5   Melt most of the butter in a large non-stick s...  NaN   \n",
       "8   Dressing: Shake Dressing ingredients in a jar....  NaN   \n",
       "9   Char onion & ginger - Heat oil in a 6 litre / ...  NaN   \n",
       "10  Peanut Sauce: Combine the Peanut Dipping Sauce...  NaN   \n",
       "11  Heat a heavy based skillet over high heat (no ...  NaN   \n",
       "13  Combine Chicken and Marinade ingredients and s...  NaN   \n",
       "14  Heat the oil in a large skillet over high heat...  NaN   \n",
       "15  Split rolls down the centre of the top (see vi...  NaN   \n",
       "16  Mix meatball mixture until just combined. Roll...  NaN   \n",
       "17  Mix Marinade in a bowl. Add shredded beef and ...  NaN   \n",
       "18  Sauce: Mix ingredients. Set aside 10 minutes+....  NaN   \n",
       "19  Place sugar and water in a skillet over medium...  NaN   \n",
       "\n",
       "                                          Description  \n",
       "0   These lettuce wraps are not strictly Vietnames...  \n",
       "1   When you see today’s recipe, you’re going to d...  \n",
       "2   I find it funny that pho is the dish that’s be...  \n",
       "3   I’ve been wanting to recreate the chargrilled ...  \n",
       "4   Banh Mi is a meat filled French baguette sandw...  \n",
       "5   Fried rice always makes for a great quick meal...  \n",
       "8   While this exact salad is not strictly authent...  \n",
       "9                                                      \n",
       "10  If I took a platter of these to a gathering wi...  \n",
       "11                                                     \n",
       "13                                                     \n",
       "14  Ground pork – which we call “mince” here in Au...  \n",
       "15                                                     \n",
       "16  This is a recipe for the Banh Mi pork meatball...  \n",
       "17                                                     \n",
       "18  Any self respecting foodie visiting a new coun...  \n",
       "19                                                     "
      ]
     },
     "execution_count": 83,
     "metadata": {},
     "output_type": "execute_result"
    }
   ],
   "source": [
    "recipes_df1"
   ]
  },
  {
   "attachments": {},
   "cell_type": "markdown",
   "metadata": {},
   "source": [
    "We noticed that for some title like Vietnamese Chicken Pho, we're missing some information so let's complete our dataframe before we generate the tags."
   ]
  },
  {
   "attachments": {},
   "cell_type": "markdown",
   "metadata": {},
   "source": [
    "Pho Ga"
   ]
  },
  {
   "cell_type": "code",
   "execution_count": 84,
   "metadata": {},
   "outputs": [
    {
     "data": {
      "text/plain": [
       "Title                        Vietnamese Chicken Pho soup (Pho Ga)\n",
       "Ingredients     1 tbsp oil , vegetable or canola (or other pla...\n",
       "Instructions    Char onion & ginger - Heat oil in a 6 litre / ...\n",
       "Tags                                                          NaN\n",
       "Description                                                      \n",
       "Name: 9, dtype: object"
      ]
     },
     "execution_count": 84,
     "metadata": {},
     "output_type": "execute_result"
    }
   ],
   "source": [
    "recipes_df.iloc[9]"
   ]
  },
  {
   "cell_type": "code",
   "execution_count": 85,
   "metadata": {},
   "outputs": [],
   "source": [
    "def html_parser(url):\n",
    "    request = requests.get(url)\n",
    "    page = BeautifulSoup(request.content, 'html.parser')\n",
    "    return page"
   ]
  },
  {
   "cell_type": "code",
   "execution_count": null,
   "metadata": {},
   "outputs": [],
   "source": [
    "def get_description(url, title, num_p, df, row_index, column_name):\n",
    "    page = html_parser(url)\n",
    "    h2s = page.find_all('h2')\n",
    "    for h2 in h2s:\n",
    "        if h2.get_text() == title:\n",
    "            heading = h2\n",
    "\n",
    "    # Get the paragraph after the h2\n",
    "    description_blocks = heading.find_all_next('p', limit=num_p)\n",
    "    description = ' '.join(block.get_text() for block in description_blocks)\n",
    "    df.loc[row_index, column_name] = description"
   ]
  },
  {
   "cell_type": "code",
   "execution_count": 86,
   "metadata": {},
   "outputs": [],
   "source": [
    "recipes_df2 = recipes_df1.copy()\n",
    "get_description('https://www.recipetineats.com/vietnamese-chicken-pho-soup-pho-ga/', \"Chicken Pho soup\", 4, recipes_df2, 9, \"Description\")"
   ]
  },
  {
   "attachments": {},
   "cell_type": "markdown",
   "metadata": {},
   "source": [
    "Pho"
   ]
  },
  {
   "cell_type": "code",
   "execution_count": 88,
   "metadata": {},
   "outputs": [],
   "source": [
    "get_description('https://www.recipetineats.com/vietnamese-pho-recipe/', \"What is Pho?\", 5, recipes_df2,11,\"Description\")"
   ]
  },
  {
   "attachments": {},
   "cell_type": "markdown",
   "metadata": {},
   "source": [
    "Vietnamese Lemon Grass Chicken"
   ]
  },
  {
   "cell_type": "code",
   "execution_count": 101,
   "metadata": {},
   "outputs": [
    {
     "name": "stdout",
     "output_type": "stream",
     "text": [
      "<h2 style=\"text-align: center;\">Vietnamese Noodles with Lemongrass Chicken</h2>\n"
     ]
    }
   ],
   "source": [
    "lemon_grass_chicken_page = html_parser('https://www.recipetineats.com/vietnamese-chicken-noodle-bowl/')\n",
    "h2s = lemon_grass_chicken_page.find_all('h2',limit=2)\n",
    "for h2 in h2s:\n",
    "    if h2.get_text() == \"Vietnamese Noodles with Lemongrass Chicken\":\n",
    "        heading = h2\n",
    "description_blocks = heading.find_all_next('p', limit=9)\n",
    "description = ' '.join(block.get_text() for block in description_blocks)\n",
    "recipes_df2.loc[13, \"Description\"] = description"
   ]
  },
  {
   "attachments": {},
   "cell_type": "markdown",
   "metadata": {},
   "source": [
    "Banh Mi"
   ]
  },
  {
   "cell_type": "code",
   "execution_count": 105,
   "metadata": {},
   "outputs": [],
   "source": [
    "banh_mi_page = html_parser('https://www.recipetineats.com/banh-mi-vietnamese-sandwich/')\n",
    "h2s = banh_mi_page.find_all('h2',limit=2)\n",
    "for h2 in h2s:\n",
    "    if h2.get_text() == \"What is Banh Mi?\":\n",
    "        heading = h2\n",
    "description_blocks = heading.find_all_next('p', limit=2)\n",
    "description = ' '.join(block.get_text() for block in description_blocks)\n",
    "recipes_df2.loc[15, \"Description\"] = description"
   ]
  },
  {
   "attachments": {},
   "cell_type": "markdown",
   "metadata": {},
   "source": [
    "Caramelized Pork Bowls"
   ]
  },
  {
   "cell_type": "code",
   "execution_count": 113,
   "metadata": {},
   "outputs": [
    {
     "name": "stdout",
     "output_type": "stream",
     "text": [
      "Here’s a super fast pork stir fry made with ground pork infused with flavours from the streets of Vietnam. With just a handful of ingredients you probably already have, it’s sweet, salty, beautifully caramelised and absolutely irresistible. It’s the quick and easy version of Vietnamese Caramel Pork, a famous Vietnamese food speciality!\n"
     ]
    }
   ],
   "source": [
    "pork_page = html_parser('https://www.recipetineats.com/vietnamese-caramelised-pork-bowls/')\n",
    "paragraph_description = pork_page.find_all('p', limit=5)\n",
    "paragraph_description = paragraph_description[2].get_text()\n",
    "print(paragraph_description)\n",
    "\n",
    "recipes_df2.loc[17, \"Description\"] = paragraph_description"
   ]
  },
  {
   "attachments": {},
   "cell_type": "markdown",
   "metadata": {},
   "source": [
    "Vietnamese Coconut Caramel Chicken"
   ]
  },
  {
   "cell_type": "code",
   "execution_count": 130,
   "metadata": {},
   "outputs": [],
   "source": [
    "chicken_page = html_parser('https://www.recipetineats.com/vietnamese-coconut-caramel-chicken/')\n",
    "paragraph_description = chicken_page.find_all('p', limit=7)\n",
    "description = (paragraph_description[2].get_text() + paragraph_description[3].get_text() + paragraph_description[5].get_text() + paragraph_description[6].get_text())\n",
    "\n",
    "recipes_df2.loc[19, \"Description\"] = description"
   ]
  },
  {
   "cell_type": "code",
   "execution_count": 131,
   "metadata": {},
   "outputs": [
    {
     "data": {
      "text/html": [
       "<div>\n",
       "<style scoped>\n",
       "    .dataframe tbody tr th:only-of-type {\n",
       "        vertical-align: middle;\n",
       "    }\n",
       "\n",
       "    .dataframe tbody tr th {\n",
       "        vertical-align: top;\n",
       "    }\n",
       "\n",
       "    .dataframe thead th {\n",
       "        text-align: right;\n",
       "    }\n",
       "</style>\n",
       "<table border=\"1\" class=\"dataframe\">\n",
       "  <thead>\n",
       "    <tr style=\"text-align: right;\">\n",
       "      <th></th>\n",
       "      <th>Title</th>\n",
       "      <th>Ingredients</th>\n",
       "      <th>Instructions</th>\n",
       "      <th>Tags</th>\n",
       "      <th>Description</th>\n",
       "    </tr>\n",
       "  </thead>\n",
       "  <tbody>\n",
       "    <tr>\n",
       "      <th>0</th>\n",
       "      <td>Vietnamese Lettuce Wraps with Peanut Sauce</td>\n",
       "      <td>300g / 10 oz peeled whole cooked prawns/shrimp...</td>\n",
       "      <td>Pickle first – Put the boiling water, salt and...</td>\n",
       "      <td>NaN</td>\n",
       "      <td>These lettuce wraps are not strictly Vietnames...</td>\n",
       "    </tr>\n",
       "    <tr>\n",
       "      <th>1</th>\n",
       "      <td>Vietnamese Caramel Ginger Chicken</td>\n",
       "      <td>1 kg / 2 lb skinless chicken thigh fillets , c...</td>\n",
       "      <td>Toss chicken with fish sauce and chilli, then ...</td>\n",
       "      <td>NaN</td>\n",
       "      <td>When you see today’s recipe, you’re going to d...</td>\n",
       "    </tr>\n",
       "    <tr>\n",
       "      <th>2</th>\n",
       "      <td>Vietnamese lemongrass pork noodle bowls (bun t...</td>\n",
       "      <td>1 batch lemongrass marinated pork (it’s marina...</td>\n",
       "      <td>Pickle – In a large bowl, dissolve the salt an...</td>\n",
       "      <td>NaN</td>\n",
       "      <td>I find it funny that pho is the dish that’s be...</td>\n",
       "    </tr>\n",
       "    <tr>\n",
       "      <th>3</th>\n",
       "      <td>Vietnamese lemongrass pork steaks</td>\n",
       "      <td>500g/1 lb pork shoulder , skinless and boneles...</td>\n",
       "      <td>Cut pork – Cut into 8 equal, thinnish slices o...</td>\n",
       "      <td>NaN</td>\n",
       "      <td>I’ve been wanting to recreate the chargrilled ...</td>\n",
       "    </tr>\n",
       "    <tr>\n",
       "      <th>4</th>\n",
       "      <td>Chicken Banh Mi (Vietnamese sandwich)</td>\n",
       "      <td>2 medium carrots , peeled cut into 2-3mm / 1/1...</td>\n",
       "      <td>Pickle – In a large bowl, dissolve the salt an...</td>\n",
       "      <td>NaN</td>\n",
       "      <td>Banh Mi is a meat filled French baguette sandw...</td>\n",
       "    </tr>\n",
       "    <tr>\n",
       "      <th>5</th>\n",
       "      <td>Red Vietnamese Fried Rice</td>\n",
       "      <td>30g / 2 tbsp unsalted butter 3 garlic cloves ,...</td>\n",
       "      <td>Melt most of the butter in a large non-stick s...</td>\n",
       "      <td>NaN</td>\n",
       "      <td>Fried rice always makes for a great quick meal...</td>\n",
       "    </tr>\n",
       "    <tr>\n",
       "      <th>8</th>\n",
       "      <td>Vietnamese Chicken Salad</td>\n",
       "      <td>350g/12oz cooked chicken , cut into thin baton...</td>\n",
       "      <td>Dressing: Shake Dressing ingredients in a jar....</td>\n",
       "      <td>NaN</td>\n",
       "      <td>While this exact salad is not strictly authent...</td>\n",
       "    </tr>\n",
       "    <tr>\n",
       "      <th>9</th>\n",
       "      <td>Vietnamese Chicken Pho soup (Pho Ga)</td>\n",
       "      <td>1 tbsp oil , vegetable or canola (or other pla...</td>\n",
       "      <td>Char onion &amp; ginger - Heat oil in a 6 litre / ...</td>\n",
       "      <td>NaN</td>\n",
       "      <td>Chicken Pho – called Pho Ga in Vietnamese – is...</td>\n",
       "    </tr>\n",
       "    <tr>\n",
       "      <th>10</th>\n",
       "      <td>Vietnamese Rice Paper Rolls</td>\n",
       "      <td>7 – 14 sheets of 22cm/8.5″ round rice paper (N...</td>\n",
       "      <td>Peanut Sauce: Combine the Peanut Dipping Sauce...</td>\n",
       "      <td>NaN</td>\n",
       "      <td>If I took a platter of these to a gathering wi...</td>\n",
       "    </tr>\n",
       "    <tr>\n",
       "      <th>11</th>\n",
       "      <td>Vietnamese Pho recipe</td>\n",
       "      <td>2 large onions , halved 150g / 5oz  ginger , s...</td>\n",
       "      <td>Heat a heavy based skillet over high heat (no ...</td>\n",
       "      <td>NaN</td>\n",
       "      <td>If you’re wondering “What is Pho?” then you’re...</td>\n",
       "    </tr>\n",
       "    <tr>\n",
       "      <th>13</th>\n",
       "      <td>Vietnamese Noodles with Lemongrass Chicken</td>\n",
       "      <td>600 - 800g / 1.2 - 1.6lb  chicken thigh fillet...</td>\n",
       "      <td>Combine Chicken and Marinade ingredients and s...</td>\n",
       "      <td>NaN</td>\n",
       "      <td>This is a recipe that has many fond memories a...</td>\n",
       "    </tr>\n",
       "    <tr>\n",
       "      <th>14</th>\n",
       "      <td>Vietnamese Caramelised Pork Bowls</td>\n",
       "      <td>1 1/2 tbsp cooking oil (I use peanut oil) 1/2 ...</td>\n",
       "      <td>Heat the oil in a large skillet over high heat...</td>\n",
       "      <td>NaN</td>\n",
       "      <td>Ground pork – which we call “mince” here in Au...</td>\n",
       "    </tr>\n",
       "    <tr>\n",
       "      <th>15</th>\n",
       "      <td>Banh Mi ! (Vietnamese sandwich)</td>\n",
       "      <td>4 crusty long bread rolls (Note 1) 6 tbsp pork...</td>\n",
       "      <td>Split rolls down the centre of the top (see vi...</td>\n",
       "      <td>NaN</td>\n",
       "      <td>This is a recipe that has many fond memories a...</td>\n",
       "    </tr>\n",
       "    <tr>\n",
       "      <th>16</th>\n",
       "      <td>Pork Meatballs for Banh Mi</td>\n",
       "      <td>2/3 cup jicama , apple or daikon, grated with ...</td>\n",
       "      <td>Mix meatball mixture until just combined. Roll...</td>\n",
       "      <td>NaN</td>\n",
       "      <td>This is a recipe for the Banh Mi pork meatball...</td>\n",
       "    </tr>\n",
       "    <tr>\n",
       "      <th>17</th>\n",
       "      <td>Caramelised Vietnamese Shredded Beef</td>\n",
       "      <td>500g / 1lb (3 cups) leftover cooked brisket or...</td>\n",
       "      <td>Mix Marinade in a bowl. Add shredded beef and ...</td>\n",
       "      <td>NaN</td>\n",
       "      <td>Here’s a super fast pork stir fry made with gr...</td>\n",
       "    </tr>\n",
       "    <tr>\n",
       "      <th>18</th>\n",
       "      <td>Bun Cha (Vietnamese Meatballs!)</td>\n",
       "      <td>250 – 300 g/8 – 10 oz  pork mince (ground pork...</td>\n",
       "      <td>Sauce: Mix ingredients. Set aside 10 minutes+....</td>\n",
       "      <td>NaN</td>\n",
       "      <td>Any self respecting foodie visiting a new coun...</td>\n",
       "    </tr>\n",
       "    <tr>\n",
       "      <th>19</th>\n",
       "      <td>Vietnamese Coconut Caramel Chicken</td>\n",
       "      <td>4 large / 5 small  chicken thighs , bone in sk...</td>\n",
       "      <td>Place sugar and water in a skillet over medium...</td>\n",
       "      <td>NaN</td>\n",
       "      <td>This Coconut Caramel Chicken is a magical, EAS...</td>\n",
       "    </tr>\n",
       "  </tbody>\n",
       "</table>\n",
       "</div>"
      ],
      "text/plain": [
       "                                                Title  \\\n",
       "0          Vietnamese Lettuce Wraps with Peanut Sauce   \n",
       "1                   Vietnamese Caramel Ginger Chicken   \n",
       "2   Vietnamese lemongrass pork noodle bowls (bun t...   \n",
       "3                   Vietnamese lemongrass pork steaks   \n",
       "4               Chicken Banh Mi (Vietnamese sandwich)   \n",
       "5                           Red Vietnamese Fried Rice   \n",
       "8                            Vietnamese Chicken Salad   \n",
       "9                Vietnamese Chicken Pho soup (Pho Ga)   \n",
       "10                        Vietnamese Rice Paper Rolls   \n",
       "11                              Vietnamese Pho recipe   \n",
       "13         Vietnamese Noodles with Lemongrass Chicken   \n",
       "14                  Vietnamese Caramelised Pork Bowls   \n",
       "15                    Banh Mi ! (Vietnamese sandwich)   \n",
       "16                         Pork Meatballs for Banh Mi   \n",
       "17               Caramelised Vietnamese Shredded Beef   \n",
       "18                    Bun Cha (Vietnamese Meatballs!)   \n",
       "19                 Vietnamese Coconut Caramel Chicken   \n",
       "\n",
       "                                          Ingredients  \\\n",
       "0   300g / 10 oz peeled whole cooked prawns/shrimp...   \n",
       "1   1 kg / 2 lb skinless chicken thigh fillets , c...   \n",
       "2   1 batch lemongrass marinated pork (it’s marina...   \n",
       "3   500g/1 lb pork shoulder , skinless and boneles...   \n",
       "4   2 medium carrots , peeled cut into 2-3mm / 1/1...   \n",
       "5   30g / 2 tbsp unsalted butter 3 garlic cloves ,...   \n",
       "8   350g/12oz cooked chicken , cut into thin baton...   \n",
       "9   1 tbsp oil , vegetable or canola (or other pla...   \n",
       "10  7 – 14 sheets of 22cm/8.5″ round rice paper (N...   \n",
       "11  2 large onions , halved 150g / 5oz  ginger , s...   \n",
       "13  600 - 800g / 1.2 - 1.6lb  chicken thigh fillet...   \n",
       "14  1 1/2 tbsp cooking oil (I use peanut oil) 1/2 ...   \n",
       "15  4 crusty long bread rolls (Note 1) 6 tbsp pork...   \n",
       "16  2/3 cup jicama , apple or daikon, grated with ...   \n",
       "17  500g / 1lb (3 cups) leftover cooked brisket or...   \n",
       "18  250 – 300 g/8 – 10 oz  pork mince (ground pork...   \n",
       "19  4 large / 5 small  chicken thighs , bone in sk...   \n",
       "\n",
       "                                         Instructions Tags  \\\n",
       "0   Pickle first – Put the boiling water, salt and...  NaN   \n",
       "1   Toss chicken with fish sauce and chilli, then ...  NaN   \n",
       "2   Pickle – In a large bowl, dissolve the salt an...  NaN   \n",
       "3   Cut pork – Cut into 8 equal, thinnish slices o...  NaN   \n",
       "4   Pickle – In a large bowl, dissolve the salt an...  NaN   \n",
       "5   Melt most of the butter in a large non-stick s...  NaN   \n",
       "8   Dressing: Shake Dressing ingredients in a jar....  NaN   \n",
       "9   Char onion & ginger - Heat oil in a 6 litre / ...  NaN   \n",
       "10  Peanut Sauce: Combine the Peanut Dipping Sauce...  NaN   \n",
       "11  Heat a heavy based skillet over high heat (no ...  NaN   \n",
       "13  Combine Chicken and Marinade ingredients and s...  NaN   \n",
       "14  Heat the oil in a large skillet over high heat...  NaN   \n",
       "15  Split rolls down the centre of the top (see vi...  NaN   \n",
       "16  Mix meatball mixture until just combined. Roll...  NaN   \n",
       "17  Mix Marinade in a bowl. Add shredded beef and ...  NaN   \n",
       "18  Sauce: Mix ingredients. Set aside 10 minutes+....  NaN   \n",
       "19  Place sugar and water in a skillet over medium...  NaN   \n",
       "\n",
       "                                          Description  \n",
       "0   These lettuce wraps are not strictly Vietnames...  \n",
       "1   When you see today’s recipe, you’re going to d...  \n",
       "2   I find it funny that pho is the dish that’s be...  \n",
       "3   I’ve been wanting to recreate the chargrilled ...  \n",
       "4   Banh Mi is a meat filled French baguette sandw...  \n",
       "5   Fried rice always makes for a great quick meal...  \n",
       "8   While this exact salad is not strictly authent...  \n",
       "9   Chicken Pho – called Pho Ga in Vietnamese – is...  \n",
       "10  If I took a platter of these to a gathering wi...  \n",
       "11  If you’re wondering “What is Pho?” then you’re...  \n",
       "13  This is a recipe that has many fond memories a...  \n",
       "14  Ground pork – which we call “mince” here in Au...  \n",
       "15  This is a recipe that has many fond memories a...  \n",
       "16  This is a recipe for the Banh Mi pork meatball...  \n",
       "17  Here’s a super fast pork stir fry made with gr...  \n",
       "18  Any self respecting foodie visiting a new coun...  \n",
       "19  This Coconut Caramel Chicken is a magical, EAS...  "
      ]
     },
     "execution_count": 131,
     "metadata": {},
     "output_type": "execute_result"
    }
   ],
   "source": [
    "recipes_df2"
   ]
  },
  {
   "attachments": {},
   "cell_type": "markdown",
   "metadata": {},
   "source": [
    "Now that we have added the descriptions of each food, let's now generate tags for each description."
   ]
  }
 ],
 "metadata": {
  "kernelspec": {
   "display_name": "tf",
   "language": "python",
   "name": "python3"
  },
  "language_info": {
   "codemirror_mode": {
    "name": "ipython",
    "version": 3
   },
   "file_extension": ".py",
   "mimetype": "text/x-python",
   "name": "python",
   "nbconvert_exporter": "python",
   "pygments_lexer": "ipython3",
   "version": "3.11.4"
  },
  "orig_nbformat": 4
 },
 "nbformat": 4,
 "nbformat_minor": 2
}
